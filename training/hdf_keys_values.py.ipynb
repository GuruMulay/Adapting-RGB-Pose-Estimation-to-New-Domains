{
 "cells": [
  {
   "cell_type": "code",
   "execution_count": 10,
   "metadata": {},
   "outputs": [],
   "source": [
    "import numpy as np\n",
    "import h5py\n",
    "import sys\n",
    "sys.path.append(\"..\")"
   ]
  },
  {
   "cell_type": "code",
   "execution_count": 73,
   "metadata": {},
   "outputs": [
    {
     "name": "stdout",
     "output_type": "stream",
     "text": [
      "====== <class 'h5py._hl.group.Group'> ItemsViewHDF5(<HDF5 group \"/conv1_1\" (1 members)>) ValuesViewHDF5(<HDF5 group \"/conv1_1\" (1 members)>)\n",
      "k= conv1_1 v= <HDF5 group \"/conv1_1/conv1_1\" (2 members)>\n",
      "('bias:0', <HDF5 dataset \"bias:0\": shape (64,), type \"<f4\">) bias:0 <HDF5 dataset \"bias:0\": shape (64,), type \"<f4\">\n",
      "('kernel:0', <HDF5 dataset \"kernel:0\": shape (3, 3, 3, 64), type \"<f4\">) kernel:0 <HDF5 dataset \"kernel:0\": shape (3, 3, 3, 64), type \"<f4\">\n"
     ]
    }
   ],
   "source": [
    "# weights_path = \"../model/keras/model.h5\"  # orginal weights converted from caffe with 38_19 maps\n",
    "weights_path = \"../model/keras/weights.0021.h5\"  # reproduce with 36_20 maps\n",
    "\n",
    "w = h5py.File(weights_path, 'r')\n",
    "\n",
    "# print(list(w.keys()))\n",
    "\n",
    "# for key in w.keys():\n",
    "#     print(key)\n",
    "    \n",
    "    \n",
    "c1 = w.get('conv1_1')\n",
    "print(\"======\", type(c1), c1.items(), c1.values())\n",
    "\n",
    "\n",
    "for k, v in c1.items():\n",
    "    print(\"k=\", k, \"v=\", v)\n",
    "    \n",
    "    for vi in v.items():\n",
    "        print(vi, vi[0], vi[1])\n",
    "\n",
    "# for v in c1.items():\n",
    "#     print(v)\n",
    "    \n",
    "# print(w['pool1_1'])\n",
    "# print(w['conv1_1'])\n",
    "\n",
    "# conv1_1_group = w['conv1_1']\n",
    "# print(\"\", conv1_1_group.items())\n",
    "# c1 = conv1_1_group.get(\"/conv1_1\")\n",
    "# print(np.array(c1).shape)"
   ]
  },
  {
   "cell_type": "code",
   "execution_count": null,
   "metadata": {},
   "outputs": [],
   "source": []
  }
 ],
 "metadata": {
  "kernelspec": {
   "display_name": "Python 3",
   "language": "python",
   "name": "python3"
  },
  "language_info": {
   "codemirror_mode": {
    "name": "ipython",
    "version": 3
   },
   "file_extension": ".py",
   "mimetype": "text/x-python",
   "name": "python",
   "nbconvert_exporter": "python",
   "pygments_lexer": "ipython3",
   "version": "3.6.4"
  }
 },
 "nbformat": 4,
 "nbformat_minor": 2
}
